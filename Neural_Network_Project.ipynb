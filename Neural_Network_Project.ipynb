{
 "cells": [
  {
   "cell_type": "markdown",
   "metadata": {},
   "source": [
    "###           Classification of Facial Expression using Feed Forward Network(Perceptron)"
   ]
  },
  {
   "cell_type": "markdown",
   "metadata": {},
   "source": [
    "#### Data Preprocessing Part"
   ]
  },
  {
   "cell_type": "code",
   "execution_count": 1,
   "metadata": {},
   "outputs": [
    {
     "name": "stderr",
     "output_type": "stream",
     "text": [
      "\n",
      "Bad key \"text.kerning_factor\" on line 4 in\n",
      "C:\\Users\\jayan\\Anaconda\\envs\\tf\\lib\\site-packages\\matplotlib\\mpl-data\\stylelib\\_classic_test_patch.mplstyle.\n",
      "You probably need to get an updated matplotlibrc file from\n",
      "https://github.com/matplotlib/matplotlib/blob/v3.1.3/matplotlibrc.template\n",
      "or from the matplotlib source distribution\n"
     ]
    }
   ],
   "source": [
    "#Importing Libraries\n",
    "import os\n",
    "import glob\n",
    "import pickle\n",
    "import random\n",
    "import numpy as np\n",
    "import cv2\n",
    "import matplotlib.pyplot as plt"
   ]
  },
  {
   "cell_type": "code",
   "execution_count": 2,
   "metadata": {},
   "outputs": [
    {
     "data": {
      "text/plain": [
       "['Dataset\\\\fortuner', 'Dataset\\\\swift', 'Dataset\\\\vento']"
      ]
     },
     "execution_count": 2,
     "metadata": {},
     "output_type": "execute_result"
    }
   ],
   "source": [
    "#Getting the files\n",
    "folders = [name for name in glob.glob('Dataset/*') if os.path.isdir(name)]\n",
    "folders"
   ]
  },
  {
   "cell_type": "code",
   "execution_count": 3,
   "metadata": {},
   "outputs": [
    {
     "data": {
      "text/plain": [
       "['fortuner', 'swift', 'vento']"
      ]
     },
     "execution_count": 3,
     "metadata": {},
     "output_type": "execute_result"
    }
   ],
   "source": [
    "classes = []\n",
    "for directory in folders:\n",
    "    classes.append(directory.split('\\\\')[1])\n",
    "classes"
   ]
  },
  {
   "cell_type": "code",
   "execution_count": 4,
   "metadata": {},
   "outputs": [],
   "source": [
    "#Nested tuples,dictionaries,lists are the form of dataset\n",
    "training_data = []                      #The data used for training purpose\n",
    "for directory in folders:\n",
    "    paths = glob.glob(directory+'/*.jpg')\n",
    "    current_class = directory.split('\\\\')[1]\n",
    "    for path in paths:\n",
    "        training_dictionary = {}       \n",
    "        training_dictionary['path'] = path\n",
    "        training_data.append((current_class,training_dictionary))"
   ]
  },
  {
   "cell_type": "code",
   "execution_count": 5,
   "metadata": {},
   "outputs": [
    {
     "data": {
      "text/plain": [
       "[('fortuner',\n",
       "  {'path': 'Dataset\\\\fortuner\\\\1041e9c9ad54fea972391e21133d09eb_large.jpg'}),\n",
       " ('fortuner',\n",
       "  {'path': 'Dataset\\\\fortuner\\\\113946013-chiangmai-thailand-november-8-2018-private-toyota-fortuner-suv-car-on-road-no-1001-8-km-from-chiangm.jpg'}),\n",
       " ('fortuner',\n",
       "  {'path': 'Dataset\\\\fortuner\\\\12dfcf72d2d3b45d85e1dfa9f6e5cab8_extra_large.jpg'}),\n",
       " ('fortuner',\n",
       "  {'path': 'Dataset\\\\fortuner\\\\1550225910_Toyota_Fortuner_in_Pattaya.JPG.jpg'}),\n",
       " ('fortuner', {'path': 'Dataset\\\\fortuner\\\\1902990_9593_1_1583399905356.jpg'}),\n",
       " ('fortuner', {'path': 'Dataset\\\\fortuner\\\\1914992_13981_1587215363172.jpg'}),\n",
       " ('fortuner',\n",
       "  {'path': 'Dataset\\\\fortuner\\\\2015_Toyota_Fortuner_28New_Zealand29.jpg'}),\n",
       " ('fortuner',\n",
       "  {'path': 'Dataset\\\\fortuner\\\\2018-Toyota-Fortuner-TRD-Featured.jpg'}),\n",
       " ('fortuner',\n",
       "  {'path': 'Dataset\\\\fortuner\\\\2020-toyota-fortuner-bs6-1-1068x645.jpg'}),\n",
       " ('fortuner',\n",
       "  {'path': 'Dataset\\\\fortuner\\\\267844bb085fcee1130a162ec9dc47d2.jpg'}),\n",
       " ('fortuner',\n",
       "  {'path': 'Dataset\\\\fortuner\\\\2tbjr5g_toyota-fortuner_625x300_08_April_19.jpg'}),\n",
       " ('fortuner', {'path': 'Dataset\\\\fortuner\\\\3d-model-163.jpg'}),\n",
       " ('fortuner', {'path': 'Dataset\\\\fortuner\\\\61Q7Qz69kvL._SL1024_.jpg'}),\n",
       " ('fortuner',\n",
       "  {'path': 'Dataset\\\\fortuner\\\\71a75a10-4e89-43e7-91bc-06d5b83bbb9a-4804.jpg'}),\n",
       " ('fortuner',\n",
       "  {'path': 'Dataset\\\\fortuner\\\\7228b747d848ca577dd33b8f89413c29_extra_large.jpg'}),\n",
       " ('fortuner',\n",
       "  {'path': 'Dataset\\\\fortuner\\\\7f9f76a33974d8fae3cf70a3b7f9856b_large.jpg'}),\n",
       " ('fortuner',\n",
       "  {'path': 'Dataset\\\\fortuner\\\\89240604-chiang-mai-thailand-october-7-2017-private-toyota-fortuner-suv-car-on-road-no-1001-8-km-from-chiangm.jpg'}),\n",
       " ('fortuner',\n",
       "  {'path': 'Dataset\\\\fortuner\\\\92635220-chiang-mai-thailand-december-12-2017-private-toyota-fortuner-suv-car-on-road-no-1001-8-km-from-chian.jpg'}),\n",
       " ('fortuner',\n",
       "  {'path': 'Dataset\\\\fortuner\\\\9792c114796bbf97a79722d7cda3a6e7_large.jpg'}),\n",
       " ('fortuner', {'path': 'Dataset\\\\fortuner\\\\banner-mobile.jpg'}),\n",
       " ('fortuner',\n",
       "  {'path': 'Dataset\\\\fortuner\\\\bullet-proof-toyota-fortuner-500x500.jpg'}),\n",
       " ('fortuner', {'path': 'Dataset\\\\fortuner\\\\DSC_0018JPG.jpg'}),\n",
       " ('fortuner', {'path': 'Dataset\\\\fortuner\\\\fortuner-1.jpg'}),\n",
       " ('fortuner', {'path': 'Dataset\\\\fortuner\\\\fortuner-taxi.jpg'}),\n",
       " ('fortuner', {'path': 'Dataset\\\\fortuner\\\\fortuner-taxi2.jpg'}),\n",
       " ('fortuner', {'path': 'Dataset\\\\fortuner\\\\fortuner_epic_india_640x480.jpg'}),\n",
       " ('fortuner', {'path': 'Dataset\\\\fortuner\\\\front-left-side-47.jpg'}),\n",
       " ('fortuner', {'path': 'Dataset\\\\fortuner\\\\gal5.jpg'}),\n",
       " ('fortuner',\n",
       "  {'path': 'Dataset\\\\fortuner\\\\https-imgd1-aeplcdn-com-642x361-n-hh94jla_1199586-500x500.jpg'}),\n",
       " ('fortuner', {'path': 'Dataset\\\\fortuner\\\\images.jpg'}),\n",
       " ('fortuner', {'path': 'Dataset\\\\fortuner\\\\images10.jpg'}),\n",
       " ('fortuner', {'path': 'Dataset\\\\fortuner\\\\images100.jpg'}),\n",
       " ('fortuner', {'path': 'Dataset\\\\fortuner\\\\images101.jpg'}),\n",
       " ('fortuner', {'path': 'Dataset\\\\fortuner\\\\images102.jpg'}),\n",
       " ('fortuner', {'path': 'Dataset\\\\fortuner\\\\images104.jpg'}),\n",
       " ('fortuner', {'path': 'Dataset\\\\fortuner\\\\images105.jpg'}),\n",
       " ('fortuner', {'path': 'Dataset\\\\fortuner\\\\images106.jpg'}),\n",
       " ('fortuner', {'path': 'Dataset\\\\fortuner\\\\images108.jpg'}),\n",
       " ('fortuner', {'path': 'Dataset\\\\fortuner\\\\images109.jpg'}),\n",
       " ('fortuner', {'path': 'Dataset\\\\fortuner\\\\images11.jpg'}),\n",
       " ('fortuner', {'path': 'Dataset\\\\fortuner\\\\images110.jpg'}),\n",
       " ('fortuner', {'path': 'Dataset\\\\fortuner\\\\images112.jpg'}),\n",
       " ('fortuner', {'path': 'Dataset\\\\fortuner\\\\images113.jpg'}),\n",
       " ('fortuner', {'path': 'Dataset\\\\fortuner\\\\images115.jpg'}),\n",
       " ('fortuner', {'path': 'Dataset\\\\fortuner\\\\images116.jpg'}),\n",
       " ('fortuner', {'path': 'Dataset\\\\fortuner\\\\images117.jpg'}),\n",
       " ('fortuner', {'path': 'Dataset\\\\fortuner\\\\images118.jpg'}),\n",
       " ('fortuner', {'path': 'Dataset\\\\fortuner\\\\images119.jpg'}),\n",
       " ('fortuner', {'path': 'Dataset\\\\fortuner\\\\images12.jpg'}),\n",
       " ('fortuner', {'path': 'Dataset\\\\fortuner\\\\images120.jpg'}),\n",
       " ('fortuner', {'path': 'Dataset\\\\fortuner\\\\images121.jpg'}),\n",
       " ('fortuner', {'path': 'Dataset\\\\fortuner\\\\images122.jpg'}),\n",
       " ('fortuner', {'path': 'Dataset\\\\fortuner\\\\images123.jpg'}),\n",
       " ('fortuner', {'path': 'Dataset\\\\fortuner\\\\images124.jpg'}),\n",
       " ('fortuner', {'path': 'Dataset\\\\fortuner\\\\images13.jpg'}),\n",
       " ('fortuner', {'path': 'Dataset\\\\fortuner\\\\images14.jpg'}),\n",
       " ('fortuner', {'path': 'Dataset\\\\fortuner\\\\images15.jpg'}),\n",
       " ('fortuner', {'path': 'Dataset\\\\fortuner\\\\images17.jpg'}),\n",
       " ('fortuner', {'path': 'Dataset\\\\fortuner\\\\images18.jpg'}),\n",
       " ('fortuner', {'path': 'Dataset\\\\fortuner\\\\images19.jpg'}),\n",
       " ('fortuner', {'path': 'Dataset\\\\fortuner\\\\images2.jpg'}),\n",
       " ('fortuner', {'path': 'Dataset\\\\fortuner\\\\images22.jpg'}),\n",
       " ('fortuner', {'path': 'Dataset\\\\fortuner\\\\images24.jpg'}),\n",
       " ('fortuner', {'path': 'Dataset\\\\fortuner\\\\images25.jpg'}),\n",
       " ('fortuner', {'path': 'Dataset\\\\fortuner\\\\images27.jpg'}),\n",
       " ('fortuner', {'path': 'Dataset\\\\fortuner\\\\images28.jpg'}),\n",
       " ('fortuner', {'path': 'Dataset\\\\fortuner\\\\images29.jpg'}),\n",
       " ('fortuner', {'path': 'Dataset\\\\fortuner\\\\images3.jpg'}),\n",
       " ('fortuner', {'path': 'Dataset\\\\fortuner\\\\images31.jpg'}),\n",
       " ('fortuner', {'path': 'Dataset\\\\fortuner\\\\images32.jpg'}),\n",
       " ('fortuner', {'path': 'Dataset\\\\fortuner\\\\images33.jpg'}),\n",
       " ('fortuner', {'path': 'Dataset\\\\fortuner\\\\images34.jpg'}),\n",
       " ('fortuner', {'path': 'Dataset\\\\fortuner\\\\images35.jpg'}),\n",
       " ('fortuner', {'path': 'Dataset\\\\fortuner\\\\images36.jpg'}),\n",
       " ('fortuner', {'path': 'Dataset\\\\fortuner\\\\images37.jpg'}),\n",
       " ('fortuner', {'path': 'Dataset\\\\fortuner\\\\images38.jpg'}),\n",
       " ('fortuner', {'path': 'Dataset\\\\fortuner\\\\images39.jpg'}),\n",
       " ('fortuner', {'path': 'Dataset\\\\fortuner\\\\images4.jpg'}),\n",
       " ('fortuner', {'path': 'Dataset\\\\fortuner\\\\images40.jpg'}),\n",
       " ('fortuner', {'path': 'Dataset\\\\fortuner\\\\images42.jpg'}),\n",
       " ('fortuner', {'path': 'Dataset\\\\fortuner\\\\images44.jpg'}),\n",
       " ('fortuner', {'path': 'Dataset\\\\fortuner\\\\images46.jpg'}),\n",
       " ('fortuner', {'path': 'Dataset\\\\fortuner\\\\images47.jpg'}),\n",
       " ('fortuner', {'path': 'Dataset\\\\fortuner\\\\images48.jpg'}),\n",
       " ('fortuner', {'path': 'Dataset\\\\fortuner\\\\images5.jpg'}),\n",
       " ('fortuner', {'path': 'Dataset\\\\fortuner\\\\images50.jpg'}),\n",
       " ('fortuner', {'path': 'Dataset\\\\fortuner\\\\images51.jpg'}),\n",
       " ('fortuner', {'path': 'Dataset\\\\fortuner\\\\images52.jpg'}),\n",
       " ('fortuner', {'path': 'Dataset\\\\fortuner\\\\images53.jpg'}),\n",
       " ('fortuner', {'path': 'Dataset\\\\fortuner\\\\images54.jpg'}),\n",
       " ('fortuner', {'path': 'Dataset\\\\fortuner\\\\images55.jpg'}),\n",
       " ('fortuner', {'path': 'Dataset\\\\fortuner\\\\images56.jpg'}),\n",
       " ('fortuner', {'path': 'Dataset\\\\fortuner\\\\images57.jpg'}),\n",
       " ('fortuner', {'path': 'Dataset\\\\fortuner\\\\images58.jpg'}),\n",
       " ('fortuner', {'path': 'Dataset\\\\fortuner\\\\images59.jpg'}),\n",
       " ('fortuner', {'path': 'Dataset\\\\fortuner\\\\images6.jpg'}),\n",
       " ('fortuner', {'path': 'Dataset\\\\fortuner\\\\images60.jpg'}),\n",
       " ('fortuner', {'path': 'Dataset\\\\fortuner\\\\images61.jpg'}),\n",
       " ('fortuner', {'path': 'Dataset\\\\fortuner\\\\images62.jpg'}),\n",
       " ('fortuner', {'path': 'Dataset\\\\fortuner\\\\images63.jpg'}),\n",
       " ('fortuner', {'path': 'Dataset\\\\fortuner\\\\images64.jpg'}),\n",
       " ('fortuner', {'path': 'Dataset\\\\fortuner\\\\images66.jpg'}),\n",
       " ('fortuner', {'path': 'Dataset\\\\fortuner\\\\images67.jpg'}),\n",
       " ('fortuner', {'path': 'Dataset\\\\fortuner\\\\images68.jpg'}),\n",
       " ('fortuner', {'path': 'Dataset\\\\fortuner\\\\images69.jpg'}),\n",
       " ('fortuner', {'path': 'Dataset\\\\fortuner\\\\images7.jpg'}),\n",
       " ('fortuner', {'path': 'Dataset\\\\fortuner\\\\images70.jpg'}),\n",
       " ('fortuner', {'path': 'Dataset\\\\fortuner\\\\images71.jpg'}),\n",
       " ('fortuner', {'path': 'Dataset\\\\fortuner\\\\images72.jpg'}),\n",
       " ('fortuner', {'path': 'Dataset\\\\fortuner\\\\images73.jpg'}),\n",
       " ('fortuner', {'path': 'Dataset\\\\fortuner\\\\images74.jpg'}),\n",
       " ('fortuner', {'path': 'Dataset\\\\fortuner\\\\images75.jpg'}),\n",
       " ('fortuner', {'path': 'Dataset\\\\fortuner\\\\images76.jpg'}),\n",
       " ('fortuner', {'path': 'Dataset\\\\fortuner\\\\images77.jpg'}),\n",
       " ('fortuner', {'path': 'Dataset\\\\fortuner\\\\images78.jpg'}),\n",
       " ('fortuner', {'path': 'Dataset\\\\fortuner\\\\images79.jpg'}),\n",
       " ('fortuner', {'path': 'Dataset\\\\fortuner\\\\images8.jpg'}),\n",
       " ('fortuner', {'path': 'Dataset\\\\fortuner\\\\images81.jpg'}),\n",
       " ('fortuner', {'path': 'Dataset\\\\fortuner\\\\images82.jpg'}),\n",
       " ('fortuner', {'path': 'Dataset\\\\fortuner\\\\images83.jpg'}),\n",
       " ('fortuner', {'path': 'Dataset\\\\fortuner\\\\images85.jpg'}),\n",
       " ('fortuner', {'path': 'Dataset\\\\fortuner\\\\images86.jpg'}),\n",
       " ('fortuner', {'path': 'Dataset\\\\fortuner\\\\images87.jpg'}),\n",
       " ('fortuner', {'path': 'Dataset\\\\fortuner\\\\images88.jpg'}),\n",
       " ('fortuner', {'path': 'Dataset\\\\fortuner\\\\images89.jpg'}),\n",
       " ('fortuner', {'path': 'Dataset\\\\fortuner\\\\images90.jpg'}),\n",
       " ('fortuner', {'path': 'Dataset\\\\fortuner\\\\images91.jpg'}),\n",
       " ('fortuner', {'path': 'Dataset\\\\fortuner\\\\images92.jpg'}),\n",
       " ('fortuner', {'path': 'Dataset\\\\fortuner\\\\images93.jpg'}),\n",
       " ('fortuner', {'path': 'Dataset\\\\fortuner\\\\images94.jpg'}),\n",
       " ('fortuner', {'path': 'Dataset\\\\fortuner\\\\images95.jpg'}),\n",
       " ('fortuner', {'path': 'Dataset\\\\fortuner\\\\images96.jpg'}),\n",
       " ('fortuner', {'path': 'Dataset\\\\fortuner\\\\images97.jpg'}),\n",
       " ('fortuner', {'path': 'Dataset\\\\fortuner\\\\images98.jpg'}),\n",
       " ('fortuner', {'path': 'Dataset\\\\fortuner\\\\images99.jpg'}),\n",
       " ('fortuner', {'path': 'Dataset\\\\fortuner\\\\img-fortuner1-500x500.jpg'}),\n",
       " ('fortuner', {'path': 'Dataset\\\\fortuner\\\\main_cropped.jpg'}),\n",
       " ('fortuner', {'path': 'Dataset\\\\fortuner\\\\maxresdefault.jpg'}),\n",
       " ('fortuner', {'path': 'Dataset\\\\fortuner\\\\maxresdefault0.jpg'}),\n",
       " ('fortuner', {'path': 'Dataset\\\\fortuner\\\\maxresdefault1.jpg'}),\n",
       " ('fortuner', {'path': 'Dataset\\\\fortuner\\\\maxresdefault2.jpg'}),\n",
       " ('fortuner', {'path': 'Dataset\\\\fortuner\\\\maxresdefault3.jpg'}),\n",
       " ('fortuner',\n",
       "  {'path': 'Dataset\\\\fortuner\\\\mg-gloster-vs-toyota-fortuner-2-1068x601.jpg'}),\n",
       " ('fortuner',\n",
       "  {'path': 'Dataset\\\\fortuner\\\\new-toyota-fortuner-to-launch-during-diwali.jpg'}),\n",
       " ('fortuner', {'path': 'Dataset\\\\fortuner\\\\service-by-toyota-fortuner.jpg'}),\n",
       " ('fortuner',\n",
       "  {'path': 'Dataset\\\\fortuner\\\\Stainless-Steel-SLIM-for-Fortuner-car-accessories-Wording-3D-Letter-car-Sticker-Trim-3d-auto-sticker.jpg_640x640q70.jpg'}),\n",
       " ('fortuner', {'path': 'Dataset\\\\fortuner\\\\thumb.jpg'}),\n",
       " ('fortuner',\n",
       "  {'path': 'Dataset\\\\fortuner\\\\toyota-fortuner-33cf8491-1600x1200JPG.jpg'}),\n",
       " ('fortuner', {'path': 'Dataset\\\\fortuner\\\\toyota-fortuner-car-in-puri.jpg'}),\n",
       " ('fortuner', {'path': 'Dataset\\\\fortuner\\\\toyota-fortuner-e3be6625.jpg'}),\n",
       " ('fortuner',\n",
       "  {'path': 'Dataset\\\\fortuner\\\\Toyota-Fortuner-Exterior-134988.jpg'}),\n",
       " ('fortuner',\n",
       "  {'path': 'Dataset\\\\fortuner\\\\toyota-fortuner-front_3-4th_view.jpg'}),\n",
       " ('fortuner',\n",
       "  {'path': 'Dataset\\\\fortuner\\\\toyota-fortuner-hire-jaipur-2.jpg'}),\n",
       " ('fortuner',\n",
       "  {'path': 'Dataset\\\\fortuner\\\\Toyota-Fortuner-Left-Front-Three-Quarter-99681.jpg'}),\n",
       " ('fortuner',\n",
       "  {'path': 'Dataset\\\\fortuner\\\\toyota-fortuner-left-side-view.jpg'}),\n",
       " ('fortuner',\n",
       "  {'path': 'Dataset\\\\fortuner\\\\Toyota-Fortuner-Right-Front-Three-Quarter-83478.jpg'}),\n",
       " ('fortuner',\n",
       "  {'path': 'Dataset\\\\fortuner\\\\Toyota-Fortuner-TRD-Celebratory-Edition-1068x610.jpg'}),\n",
       " ('fortuner',\n",
       "  {'path': 'Dataset\\\\fortuner\\\\toyota-fortuner-trd-sportivo-launched_827x510_51506068122.jpg'}),\n",
       " ('fortuner',\n",
       "  {'path': 'Dataset\\\\fortuner\\\\toyota-fortuner-trd-sportivo-rear.jpg'}),\n",
       " ('fortuner',\n",
       "  {'path': 'Dataset\\\\fortuner\\\\toyota-fortuner-vrz-car-toyota-fortuner-trd-sportivo-png-favpng-hXA9c1kMyQx9T4uz5qfNuV3Cn.jpg'}),\n",
       " ('fortuner', {'path': 'Dataset\\\\fortuner\\\\toyota-fortuner.jpg'}),\n",
       " ('fortuner', {'path': 'Dataset\\\\fortuner\\\\Toyota-Fortuner_6.jpg'}),\n",
       " ('fortuner', {'path': 'Dataset\\\\fortuner\\\\toyota-fortuner_600x400.jpg'}),\n",
       " ('fortuner',\n",
       "  {'path': 'Dataset\\\\fortuner\\\\Toyota-Innova-Crysta-and-Fortuner-2.jpg'}),\n",
       " ('fortuner', {'path': 'Dataset\\\\fortuner\\\\toyota0.jpg'}),\n",
       " ('fortuner',\n",
       "  {'path': 'Dataset\\\\fortuner\\\\toyota_fortuner_2014_diesel_clean_toyota_fortuner_car_for_sale_7860125560349508365.jpg'}),\n",
       " ('swift', {'path': 'Dataset\\\\swift\\\\1518075999-9895.jpg'}),\n",
       " ('swift', {'path': 'Dataset\\\\swift\\\\2005-may.jpg'}),\n",
       " ('swift', {'path': 'Dataset\\\\swift\\\\2007_Suzuki_Swift_Sport_1.6_Front.jpg'}),\n",
       " ('swift',\n",
       "  {'path': 'Dataset\\\\swift\\\\2018-suzuki-swift-sport_827x510_61501841674.jpg'}),\n",
       " ('swift',\n",
       "  {'path': 'Dataset\\\\swift\\\\2018_Suzuki_Swift_SZ5_Boosterjet_SHVS_1.0_Front.jpg'}),\n",
       " ('swift', {'path': 'Dataset\\\\swift\\\\40157__ANI1352_468x263JPG.jpg'}),\n",
       " ('swift', {'path': 'Dataset\\\\swift\\\\51TyAdgoQoL._SX425_.jpg'}),\n",
       " ('swift', {'path': 'Dataset\\\\swift\\\\Accessorised-Swift-Unveiled.jpg'}),\n",
       " ('swift',\n",
       "  {'path': 'Dataset\\\\swift\\\\ba9b44ac54d76dc9b7fe0220964b6cf1_large.jpg'}),\n",
       " ('swift',\n",
       "  {'path': 'Dataset\\\\swift\\\\comparison-between-maruti-suzuki-ignis-vs-maruti-suzuki-swift.jpg'}),\n",
       " ('swift', {'path': 'Dataset\\\\swift\\\\diesel-swift.jpg'}),\n",
       " ('swift', {'path': 'Dataset\\\\swift\\\\file.jpg'}),\n",
       " ('swift', {'path': 'Dataset\\\\swift\\\\front-left-side-47.jpg'}),\n",
       " ('swift', {'path': 'Dataset\\\\swift\\\\hqdefault.jpg'}),\n",
       " ('swift', {'path': 'Dataset\\\\swift\\\\images.jpg'}),\n",
       " ('swift', {'path': 'Dataset\\\\swift\\\\images0.jpg'}),\n",
       " ('swift', {'path': 'Dataset\\\\swift\\\\images1.jpg'}),\n",
       " ('swift', {'path': 'Dataset\\\\swift\\\\images10.jpg'}),\n",
       " ('swift', {'path': 'Dataset\\\\swift\\\\images11.jpg'}),\n",
       " ('swift', {'path': 'Dataset\\\\swift\\\\images12.jpg'}),\n",
       " ('swift', {'path': 'Dataset\\\\swift\\\\images13.jpg'}),\n",
       " ('swift', {'path': 'Dataset\\\\swift\\\\images14.jpg'}),\n",
       " ('swift', {'path': 'Dataset\\\\swift\\\\images15.jpg'}),\n",
       " ('swift', {'path': 'Dataset\\\\swift\\\\images16.jpg'}),\n",
       " ('swift', {'path': 'Dataset\\\\swift\\\\images17.jpg'}),\n",
       " ('swift', {'path': 'Dataset\\\\swift\\\\images18.jpg'}),\n",
       " ('swift', {'path': 'Dataset\\\\swift\\\\images19.jpg'}),\n",
       " ('swift', {'path': 'Dataset\\\\swift\\\\images2.jpg'}),\n",
       " ('swift', {'path': 'Dataset\\\\swift\\\\images20.jpg'}),\n",
       " ('swift', {'path': 'Dataset\\\\swift\\\\images21.jpg'}),\n",
       " ('swift', {'path': 'Dataset\\\\swift\\\\images22.jpg'}),\n",
       " ('swift', {'path': 'Dataset\\\\swift\\\\images23.jpg'}),\n",
       " ('swift', {'path': 'Dataset\\\\swift\\\\images24.jpg'}),\n",
       " ('swift', {'path': 'Dataset\\\\swift\\\\images26.jpg'}),\n",
       " ('swift', {'path': 'Dataset\\\\swift\\\\images27.jpg'}),\n",
       " ('swift', {'path': 'Dataset\\\\swift\\\\images28.jpg'}),\n",
       " ('swift', {'path': 'Dataset\\\\swift\\\\images29.jpg'}),\n",
       " ('swift', {'path': 'Dataset\\\\swift\\\\images3.jpg'}),\n",
       " ('swift', {'path': 'Dataset\\\\swift\\\\images30.jpg'}),\n",
       " ('swift', {'path': 'Dataset\\\\swift\\\\images31.jpg'}),\n",
       " ('swift', {'path': 'Dataset\\\\swift\\\\images32.jpg'}),\n",
       " ('swift', {'path': 'Dataset\\\\swift\\\\images33.jpg'}),\n",
       " ('swift', {'path': 'Dataset\\\\swift\\\\images34.jpg'}),\n",
       " ('swift', {'path': 'Dataset\\\\swift\\\\images35.jpg'}),\n",
       " ('swift', {'path': 'Dataset\\\\swift\\\\images36.jpg'}),\n",
       " ('swift', {'path': 'Dataset\\\\swift\\\\images37.jpg'}),\n",
       " ('swift', {'path': 'Dataset\\\\swift\\\\images38.jpg'}),\n",
       " ('swift', {'path': 'Dataset\\\\swift\\\\images39.jpg'}),\n",
       " ('swift', {'path': 'Dataset\\\\swift\\\\images4.jpg'}),\n",
       " ('swift', {'path': 'Dataset\\\\swift\\\\images40.jpg'}),\n",
       " ('swift', {'path': 'Dataset\\\\swift\\\\images5.jpg'}),\n",
       " ('swift', {'path': 'Dataset\\\\swift\\\\images6.jpg'}),\n",
       " ('swift', {'path': 'Dataset\\\\swift\\\\images7.jpg'}),\n",
       " ('swift', {'path': 'Dataset\\\\swift\\\\images8.jpg'}),\n",
       " ('swift', {'path': 'Dataset\\\\swift\\\\img2.jpg'}),\n",
       " ('swift',\n",
       "  {'path': 'Dataset\\\\swift\\\\japanese-suzuki-swift-sport-katana-edition-1-062e.jpg'}),\n",
       " ('swift', {'path': 'Dataset\\\\swift\\\\key_img3.jpg'}),\n",
       " ('swift', {'path': 'Dataset\\\\swift\\\\key_img9.jpg'}),\n",
       " ('swift',\n",
       "  {'path': 'Dataset\\\\swift\\\\maruti-suzuki-new-swift-2018-pillor-light-2-550x550.jpg'}),\n",
       " ('swift',\n",
       "  {'path': 'Dataset\\\\swift\\\\Maruti-Suzuki-New-Swift-Left-Front-Three-Quarter-88877.jpg'}),\n",
       " ('swift',\n",
       "  {'path': 'Dataset\\\\swift\\\\Maruti-Suzuki-New-Swift-Rear-view-88878.jpg'}),\n",
       " ('swift', {'path': 'Dataset\\\\swift\\\\maruti-suzuki-swift-8-feb-18.jpg'}),\n",
       " ('swift', {'path': 'Dataset\\\\swift\\\\Maruti-Suzuki-Swift-Body-Kit---1.jpg'}),\n",
       " ('swift',\n",
       "  {'path': 'Dataset\\\\swift\\\\maruti-suzuki-swift-dzire-left-side-view.jpg'}),\n",
       " ('swift',\n",
       "  {'path': 'Dataset\\\\swift\\\\maruti-suzuki-swift-hybrid_827x510_81513853496.jpg'}),\n",
       " ('swift',\n",
       "  {'path': 'Dataset\\\\swift\\\\maruti-suzuki-swift-icreate-customization-1.jpg'}),\n",
       " ('swift',\n",
       "  {'path': 'Dataset\\\\swift\\\\Maruti-Suzuki-Swift-Long-Term-Review-3.jpg'}),\n",
       " ('swift',\n",
       "  {'path': 'Dataset\\\\swift\\\\maruti-suzuki-swift-vdi-2015-used-car-500x500.jpg'}),\n",
       " ('swift', {'path': 'Dataset\\\\swift\\\\maruti-suzuki-swift-vxi-640.jpg'}),\n",
       " ('swift', {'path': 'Dataset\\\\swift\\\\Maruti-Swift-Diesel-Review.jpg'}),\n",
       " ('swift', {'path': 'Dataset\\\\swift\\\\maruti-swift_600x400.jpg'}),\n",
       " ('swift', {'path': 'Dataset\\\\swift\\\\maruti0.jpg'}),\n",
       " ('swift', {'path': 'Dataset\\\\swift\\\\Maruti20Hybrid.jpg'}),\n",
       " ('swift', {'path': 'Dataset\\\\swift\\\\marutisuzuki-swift-75c42aa0.jpg'}),\n",
       " ('swift',\n",
       "  {'path': 'Dataset\\\\swift\\\\maruti_suzuki_swift_zdi_2013_diesel_used_maruti_suzuki_swift_zdi_2013_1000132524237331713.jpg'}),\n",
       " ('swift', {'path': 'Dataset\\\\swift\\\\maxresdefault.jpg'}),\n",
       " ('swift', {'path': 'Dataset\\\\swift\\\\maxresdefault0.jpg'}),\n",
       " ('swift', {'path': 'Dataset\\\\swift\\\\maxresdefault1.jpg'}),\n",
       " ('swift', {'path': 'Dataset\\\\swift\\\\Metallic-Silky-SilverN_6f6f6e.jpg'}),\n",
       " ('swift',\n",
       "  {'path': 'Dataset\\\\swift\\\\modified-maruit-swift-scissor-doors-like-lamborghi-79cb.jpg'}),\n",
       " ('swift',\n",
       "  {'path': 'Dataset\\\\swift\\\\Modified-Maruti-Swift1-e1575887182706-1068x682.jpg'}),\n",
       " ('swift',\n",
       "  {'path': 'Dataset\\\\swift\\\\modified-sport-grill-for-suzuki-swift-500x500.jpg'}),\n",
       " ('swift',\n",
       "  {'path': 'Dataset\\\\swift\\\\new-maruti-suzuki-swift-front-right-quarter_827x510_71491884991.jpg'}),\n",
       " ('swift',\n",
       "  {'path': 'Dataset\\\\swift\\\\pkpc6hbo_maruti-suzuki-swift_625x300_28_December_19.jpg'}),\n",
       " ('swift', {'path': 'Dataset\\\\swift\\\\PS-38.jpg'}),\n",
       " ('swift', {'path': 'Dataset\\\\swift\\\\PS-39.jpg'}),\n",
       " ('swift', {'path': 'Dataset\\\\swift\\\\rear-right-side-48.jpg'}),\n",
       " ('swift', {'path': 'Dataset\\\\swift\\\\suzuki-swift-sport-extreme-660x440.jpg'}),\n",
       " ('swift',\n",
       "  {'path': 'Dataset\\\\swift\\\\Suzuki-Swift-Sport-Extreme-Concept-4.jpg'}),\n",
       " ('swift',\n",
       "  {'path': 'Dataset\\\\swift\\\\suzuki-swift-sport-thailand-2-1068x710.jpg'}),\n",
       " ('swift',\n",
       "  {'path': 'Dataset\\\\swift\\\\Suzuki_Swift_20200000.jpgAC60E9EE-AFCC-4702-8F9D-96697DE970E3Zoom.jpg'}),\n",
       " ('swift', {'path': 'Dataset\\\\swift\\\\suzuki_swift_fdimg_2981-t_640x480.jpg'}),\n",
       " ('swift', {'path': 'Dataset\\\\swift\\\\Suzuki_Swift_Sport_2017.jpg'}),\n",
       " ('swift', {'path': 'Dataset\\\\swift\\\\swift-1503485354-prod-var.jpg'}),\n",
       " ('swift', {'path': 'Dataset\\\\swift\\\\swift-big.jpg'}),\n",
       " ('swift', {'path': 'Dataset\\\\swift\\\\swift-colour-metallic-magma-grey.jpg'}),\n",
       " ('swift', {'path': 'Dataset\\\\swift\\\\swift-sport-1-1068x601.jpg'}),\n",
       " ('swift', {'path': 'Dataset\\\\swift\\\\Swift-Sport.jpg'}),\n",
       " ('swift', {'path': 'Dataset\\\\swift\\\\Swift.jpg'}),\n",
       " ('swift', {'path': 'Dataset\\\\swift\\\\swiftextitle_640x480.jpg'}),\n",
       " ('swift', {'path': 'Dataset\\\\swift\\\\thumb.jpg'}),\n",
       " ('swift', {'path': 'Dataset\\\\swift\\\\two-star-rating.jpg'}),\n",
       " ('swift', {'path': 'Dataset\\\\swift\\\\zill3ra_1429634.jpg'}),\n",
       " ('vento', {'path': 'Dataset\\\\vento\\\\01volkswagen-vento2.jpg'}),\n",
       " ('vento', {'path': 'Dataset\\\\vento\\\\07fklsa_1470997.jpg'}),\n",
       " ('vento', {'path': 'Dataset\\\\vento\\\\0d2cfea5518a46e4c4f3f43a3b97670b.jpg'}),\n",
       " ('vento', {'path': 'Dataset\\\\vento\\\\11-5.jpg'}),\n",
       " ('vento', {'path': 'Dataset\\\\vento\\\\1200px-Vento_Jetta_3.jpg'}),\n",
       " ('vento',\n",
       "  {'path': 'Dataset\\\\vento\\\\2019-volkswagen-polo-facelift-2019-volkswagen-vento-facelift-2-1068x614.jpg'}),\n",
       " ('vento',\n",
       "  {'path': 'Dataset\\\\vento\\\\4e8747ef79c73f2690a4ffccf1d798c4_extra_large.jpg'}),\n",
       " ('vento', {'path': 'Dataset\\\\vento\\\\6831a7d22a08b648a241b5c7a7aaf476.jpg'}),\n",
       " ('vento',\n",
       "  {'path': 'Dataset\\\\vento\\\\71dbb3a4026e1612cebcd55f375b89e7_extra_large.jpg'}),\n",
       " ('vento',\n",
       "  {'path': 'Dataset\\\\vento\\\\81751270-oaxaca-mexico-may-25-2017-motor-car-volkswagen-vento-in-the-city-street-.jpg'}),\n",
       " ('vento',\n",
       "  {'path': 'Dataset\\\\vento\\\\83119703-cancun-mexico-may-16-2017-motor-car-volkswagen-vento-in-the-city-street-.jpg'}),\n",
       " ('vento',\n",
       "  {'path': 'Dataset\\\\vento\\\\8hdbj99g_nextgen-volkswagen-vento-polo-sedan-unveiled-in-russia_625x300_27_February_20.jpg'}),\n",
       " ('vento', {'path': 'Dataset\\\\vento\\\\app_3635102_20200316235222_18.jpg'}),\n",
       " ('vento',\n",
       "  {'path': 'Dataset\\\\vento\\\\df3f8b93e93138814f11a109667d6e90_extra_large.jpg'}),\n",
       " ('vento', {'path': 'Dataset\\\\vento\\\\exterior-image-166.jpg'}),\n",
       " ('vento',\n",
       "  {'path': 'Dataset\\\\vento\\\\fefe4e64534946f20d316a8ba05e3430_large.jpg'}),\n",
       " ('vento', {'path': 'Dataset\\\\vento\\\\front-left-side-47.jpg'}),\n",
       " ('vento', {'path': 'Dataset\\\\vento\\\\front-left-side-470.jpg'}),\n",
       " ('vento', {'path': 'Dataset\\\\vento\\\\front-left-side-471.jpg'}),\n",
       " ('vento', {'path': 'Dataset\\\\vento\\\\images.jpg'}),\n",
       " ('vento', {'path': 'Dataset\\\\vento\\\\images1.jpg'}),\n",
       " ('vento', {'path': 'Dataset\\\\vento\\\\images10.jpg'}),\n",
       " ('vento', {'path': 'Dataset\\\\vento\\\\images11.jpg'}),\n",
       " ('vento', {'path': 'Dataset\\\\vento\\\\images12.jpg'}),\n",
       " ('vento', {'path': 'Dataset\\\\vento\\\\images13.jpg'}),\n",
       " ('vento', {'path': 'Dataset\\\\vento\\\\images14.jpg'}),\n",
       " ('vento', {'path': 'Dataset\\\\vento\\\\images15.jpg'}),\n",
       " ('vento', {'path': 'Dataset\\\\vento\\\\images16.jpg'}),\n",
       " ('vento', {'path': 'Dataset\\\\vento\\\\images17.jpg'}),\n",
       " ('vento', {'path': 'Dataset\\\\vento\\\\images18.jpg'}),\n",
       " ('vento', {'path': 'Dataset\\\\vento\\\\images2.jpg'}),\n",
       " ('vento', {'path': 'Dataset\\\\vento\\\\images20.jpg'}),\n",
       " ('vento', {'path': 'Dataset\\\\vento\\\\images21.jpg'}),\n",
       " ('vento', {'path': 'Dataset\\\\vento\\\\images23.jpg'}),\n",
       " ('vento', {'path': 'Dataset\\\\vento\\\\images24.jpg'}),\n",
       " ('vento', {'path': 'Dataset\\\\vento\\\\images25.jpg'}),\n",
       " ('vento', {'path': 'Dataset\\\\vento\\\\images26.jpg'}),\n",
       " ('vento', {'path': 'Dataset\\\\vento\\\\images27.jpg'}),\n",
       " ('vento', {'path': 'Dataset\\\\vento\\\\images28.jpg'}),\n",
       " ('vento', {'path': 'Dataset\\\\vento\\\\images29.jpg'}),\n",
       " ('vento', {'path': 'Dataset\\\\vento\\\\images3.jpg'}),\n",
       " ('vento', {'path': 'Dataset\\\\vento\\\\images30.jpg'}),\n",
       " ('vento', {'path': 'Dataset\\\\vento\\\\images31.jpg'}),\n",
       " ('vento', {'path': 'Dataset\\\\vento\\\\images32.jpg'}),\n",
       " ('vento', {'path': 'Dataset\\\\vento\\\\images33.jpg'}),\n",
       " ('vento', {'path': 'Dataset\\\\vento\\\\images34.jpg'}),\n",
       " ('vento', {'path': 'Dataset\\\\vento\\\\images35.jpg'}),\n",
       " ('vento', {'path': 'Dataset\\\\vento\\\\images36.jpg'}),\n",
       " ('vento', {'path': 'Dataset\\\\vento\\\\images37.jpg'}),\n",
       " ('vento', {'path': 'Dataset\\\\vento\\\\images38.jpg'}),\n",
       " ('vento', {'path': 'Dataset\\\\vento\\\\images4.jpg'}),\n",
       " ('vento', {'path': 'Dataset\\\\vento\\\\images40.jpg'}),\n",
       " ('vento', {'path': 'Dataset\\\\vento\\\\images41.jpg'}),\n",
       " ('vento', {'path': 'Dataset\\\\vento\\\\images42.jpg'}),\n",
       " ('vento', {'path': 'Dataset\\\\vento\\\\images43.jpg'}),\n",
       " ('vento', {'path': 'Dataset\\\\vento\\\\images44.jpg'}),\n",
       " ('vento', {'path': 'Dataset\\\\vento\\\\images45.jpg'}),\n",
       " ('vento', {'path': 'Dataset\\\\vento\\\\images46.jpg'}),\n",
       " ('vento', {'path': 'Dataset\\\\vento\\\\images47.jpg'}),\n",
       " ('vento', {'path': 'Dataset\\\\vento\\\\images48.jpg'}),\n",
       " ('vento', {'path': 'Dataset\\\\vento\\\\images49.jpg'}),\n",
       " ('vento', {'path': 'Dataset\\\\vento\\\\images5.jpg'}),\n",
       " ('vento', {'path': 'Dataset\\\\vento\\\\images50.jpg'}),\n",
       " ('vento', {'path': 'Dataset\\\\vento\\\\images51.jpg'}),\n",
       " ('vento', {'path': 'Dataset\\\\vento\\\\images52.jpg'}),\n",
       " ('vento', {'path': 'Dataset\\\\vento\\\\images53.jpg'}),\n",
       " ('vento', {'path': 'Dataset\\\\vento\\\\images55.jpg'}),\n",
       " ('vento', {'path': 'Dataset\\\\vento\\\\images57.jpg'}),\n",
       " ('vento', {'path': 'Dataset\\\\vento\\\\images58.jpg'}),\n",
       " ('vento', {'path': 'Dataset\\\\vento\\\\images59.jpg'}),\n",
       " ('vento', {'path': 'Dataset\\\\vento\\\\images6.jpg'}),\n",
       " ('vento', {'path': 'Dataset\\\\vento\\\\images60.jpg'}),\n",
       " ('vento', {'path': 'Dataset\\\\vento\\\\images61.jpg'}),\n",
       " ('vento', {'path': 'Dataset\\\\vento\\\\images62.jpg'}),\n",
       " ('vento', {'path': 'Dataset\\\\vento\\\\images63.jpg'}),\n",
       " ('vento', {'path': 'Dataset\\\\vento\\\\images64.jpg'}),\n",
       " ('vento', {'path': 'Dataset\\\\vento\\\\images65.jpg'}),\n",
       " ('vento', {'path': 'Dataset\\\\vento\\\\images66.jpg'}),\n",
       " ('vento', {'path': 'Dataset\\\\vento\\\\images68.jpg'}),\n",
       " ('vento', {'path': 'Dataset\\\\vento\\\\images69.jpg'}),\n",
       " ('vento', {'path': 'Dataset\\\\vento\\\\images7.jpg'}),\n",
       " ('vento', {'path': 'Dataset\\\\vento\\\\images70.jpg'}),\n",
       " ('vento', {'path': 'Dataset\\\\vento\\\\images72.jpg'}),\n",
       " ('vento', {'path': 'Dataset\\\\vento\\\\images73.jpg'}),\n",
       " ('vento', {'path': 'Dataset\\\\vento\\\\images75.jpg'}),\n",
       " ('vento', {'path': 'Dataset\\\\vento\\\\images76.jpg'}),\n",
       " ('vento', {'path': 'Dataset\\\\vento\\\\images77.jpg'}),\n",
       " ('vento', {'path': 'Dataset\\\\vento\\\\images78.jpg'}),\n",
       " ('vento', {'path': 'Dataset\\\\vento\\\\images79.jpg'}),\n",
       " ('vento', {'path': 'Dataset\\\\vento\\\\images8.jpg'}),\n",
       " ('vento', {'path': 'Dataset\\\\vento\\\\images80.jpg'}),\n",
       " ('vento', {'path': 'Dataset\\\\vento\\\\images82.jpg'}),\n",
       " ('vento', {'path': 'Dataset\\\\vento\\\\images83.jpg'}),\n",
       " ('vento', {'path': 'Dataset\\\\vento\\\\images84.jpg'}),\n",
       " ('vento', {'path': 'Dataset\\\\vento\\\\images85.jpg'}),\n",
       " ('vento', {'path': 'Dataset\\\\vento\\\\images9.jpg'}),\n",
       " ('vento', {'path': 'Dataset\\\\vento\\\\maxresdefault.jpg'}),\n",
       " ('vento', {'path': 'Dataset\\\\vento\\\\maxresdefault0.jpg'}),\n",
       " ('vento', {'path': 'Dataset\\\\vento\\\\maxresdefault1.jpg'}),\n",
       " ('vento', {'path': 'Dataset\\\\vento\\\\maxresdefault2.jpg'}),\n",
       " ('vento', {'path': 'Dataset\\\\vento\\\\sddefault.jpg'}),\n",
       " ('vento', {'path': 'Dataset\\\\vento\\\\skoda-rapid-x-1068x601.jpg'}),\n",
       " ('vento',\n",
       "  {'path': 'Dataset\\\\vento\\\\top-10-exported-cars-of-april-2018-volkswagen-vento-tops-the-chart.jpg'}),\n",
       " ('vento', {'path': 'Dataset\\\\vento\\\\vento-front-side-7e8d.jpg'}),\n",
       " ('vento', {'path': 'Dataset\\\\vento\\\\vento-tsi_625x300_81389433817.jpg'}),\n",
       " ('vento', {'path': 'Dataset\\\\vento\\\\vento1.jpg'}),\n",
       " ('vento', {'path': 'Dataset\\\\vento\\\\volkswagen-vento-15083.jpg'}),\n",
       " ('vento',\n",
       "  {'path': 'Dataset\\\\vento\\\\volkswagen-vento-2010-2012-highline-diesel-500x500.jpg'}),\n",
       " ('vento',\n",
       "  {'path': 'Dataset\\\\vento\\\\volkswagen-vento-2010-2013-diesel-highline-diesel-car-500x500.jpg'}),\n",
       " ('vento',\n",
       "  {'path': 'Dataset\\\\vento\\\\volkswagen-vento-480x248_5d905e91-ec5b-435b-a710-4753910d0284.jpg'}),\n",
       " ('vento',\n",
       "  {'path': 'Dataset\\\\vento\\\\Volkswagen-Vento-Facelift-2020-2019-2.jpg'}),\n",
       " ('vento', {'path': 'Dataset\\\\vento\\\\volkswagen-vento-ipl-edition.jpg'}),\n",
       " ('vento', {'path': 'Dataset\\\\vento\\\\Volkswagen-Vento-Price.jpg'}),\n",
       " ('vento', {'path': 'Dataset\\\\vento\\\\volkswagen-vento-rear-left-rim.jpg'}),\n",
       " ('vento',\n",
       "  {'path': 'Dataset\\\\vento\\\\Volkswagen-Vento-Right-Front-Three-Quarter-169094.jpg'}),\n",
       " ('vento',\n",
       "  {'path': 'Dataset\\\\vento\\\\Volkswagen-Vento-Right-Front-Three-Quarter-66093.jpg'}),\n",
       " ('vento',\n",
       "  {'path': 'Dataset\\\\vento\\\\volkswagen-vento-sport_827x475_81520155236.jpg'}),\n",
       " ('vento', {'path': 'Dataset\\\\vento\\\\volkswagen-vento-tsi-1.jpg'}),\n",
       " ('vento', {'path': 'Dataset\\\\vento\\\\Volkswagen-Vento.jpg'}),\n",
       " ('vento', {'path': 'Dataset\\\\vento\\\\volkswagen-vento_600x400.jpg'}),\n",
       " ('vento',\n",
       "  {'path': 'Dataset\\\\vento\\\\volkswagen_vento_2011_hybrid_2011_volkswagen_vento_cng_100000_kms_7870074525099528484.jpg'}),\n",
       " ('vento',\n",
       "  {'path': 'Dataset\\\\vento\\\\volkswagen_vento_2015_diesel_volkswagen_vento_highline_diesel_at_2015_diesel_6620063559480451371.jpg'}),\n",
       " ('vento', {'path': 'Dataset\\\\vento\\\\volkswagon_1_20190402_571_855.jpg'}),\n",
       " ('vento', {'path': 'Dataset\\\\vento\\\\vw-new-vento-right_420x210.jpg'}),\n",
       " ('vento', {'path': 'Dataset\\\\vento\\\\VW-Polo-2019-660x440.jpg'}),\n",
       " ('vento', {'path': 'Dataset\\\\vento\\\\Vw-Vento-Rear-ViewJPG.jpg'}),\n",
       " ('vento', {'path': 'Dataset\\\\vento\\\\VW-Vento.jpg'})]"
      ]
     },
     "execution_count": 5,
     "metadata": {},
     "output_type": "execute_result"
    }
   ],
   "source": [
    "training_data"
   ]
  },
  {
   "cell_type": "code",
   "execution_count": 6,
   "metadata": {},
   "outputs": [],
   "source": [
    "random.shuffle(training_data)"
   ]
  },
  {
   "cell_type": "code",
   "execution_count": 7,
   "metadata": {},
   "outputs": [],
   "source": [
    "with open('training_data.pkl','wb') as f:\n",
    "    pickle.dump(training_data,f)\n",
    "with open('classes.pkl','wb') as f:\n",
    "    pickle.dump(classes,f)"
   ]
  },
  {
   "cell_type": "markdown",
   "metadata": {},
   "source": [
    "#### Designing the Network"
   ]
  },
  {
   "cell_type": "code",
   "execution_count": 8,
   "metadata": {},
   "outputs": [],
   "source": [
    "#Retrievng the Stored Data\n",
    "with open('training_data.pkl','rb') as f:\n",
    "    training_data = pickle.load(f)\n",
    "with open('classes.pkl','rb') as f:\n",
    "    classes = pickle.load(f)"
   ]
  },
  {
   "cell_type": "markdown",
   "metadata": {},
   "source": [
    "### Training Algorithm Begins"
   ]
  },
  {
   "cell_type": "code",
   "execution_count": 34,
   "metadata": {},
   "outputs": [],
   "source": [
    "# Constants\n",
    "bias = 1\n",
    "Train_Test_Ratio = 0.6\n",
    "Iterations = 10\n",
    "lr = 0.0834"
   ]
  },
  {
   "cell_type": "code",
   "execution_count": 35,
   "metadata": {},
   "outputs": [],
   "source": [
    "def sigmoid(x):\n",
    "    return (1/1+np.exp(-x))\n",
    "\n",
    "def ReLu(x):\n",
    "    return max(0,x)       "
   ]
  },
  {
   "cell_type": "code",
   "execution_count": 36,
   "metadata": {},
   "outputs": [],
   "source": [
    "#Defining the Perceptron Class\n",
    "\n",
    "class MultiClassPerceptron:\n",
    "    accuracy = 0\n",
    "\n",
    "    def __init__(self,classes,training_data,train_test_ratio=Train_Test_Ratio,iterations=Iterations):\n",
    "        self.classes = classes\n",
    "        self.training_data = training_data\n",
    "        self.ratio = train_test_ratio\n",
    "        self.iterations = iterations\n",
    "\n",
    "        #Splitting Feature Data into Training and Testing Set For The Second step i;e training pair s:t\n",
    "        random.shuffle(self.training_data)\n",
    "        self.train_set = self.training_data[:int(len(self.training_data)*self.ratio)]\n",
    "        self.test_set = self.training_data[int(len(self.training_data)*self.ratio):]\n",
    "\n",
    "        #Initialising the Weight Vectors in the Form of a Dictionary with BIAS terms\n",
    "        self.weight_vectors = {c:np.array([0.0 for _ in range(9217)]) for c in self.classes}\n",
    "\n",
    "    def train(self):\n",
    "\n",
    "        for i in range(self.iterations):\n",
    "            for category,training_dictionary in self.train_set:\n",
    "                try:\n",
    "                    image = cv2.imread(training_dictionary['path'])  #Obtaininig the Image and preprocessing it\n",
    "                    #print(training_dictionary['path'])\n",
    "                    \n",
    "                    \n",
    "                    dim = (96,96)     #Dimension Required for Resizing the Data\n",
    "                    new_image = cv2.resize(image,dim,cv2.INTER_AREA)\n",
    "                    \n",
    "                    input_array = []\n",
    "                    input_array = [np.mean(new_image[i][j]/255) for i in range(new_image.shape[0])\n",
    "                                  for j in range(new_image.shape[1])]\n",
    "                    input_array.append(bias)\n",
    "                    input_vector = np.array(input_array)\n",
    "\n",
    "                    arg_max,predicted_class = 0,self.classes[0]\n",
    "\n",
    "                    for index in self.classes:\n",
    "                        current_activation = np.dot(input_vector,self.weight_vectors[index])\n",
    "                        #current_activation = ReLu(current_activation)\n",
    "                        if current_activation >= arg_max:\n",
    "                            arg_max,predicted_class = current_activation,index\n",
    "\n",
    "                    if not(category == predicted_class):\n",
    "                        self.weight_vectors[category] += [weight*lr for weight in input_vector]\n",
    "                        self.weight_vectors[predicted_class] -= [weight*lr for weight in input_vector]\n",
    "                except :\n",
    "                    print(\"E\")\n",
    "            print(i,'th iteraion')\n",
    "            self.calculate_accuracy()\n",
    "\n",
    "    def predict(self,training_dictionary):\n",
    "        img = cv2.imread(training_dictionary['path'])\n",
    "        dim = (96,96)\n",
    "        new_image = cv2.resize(img,dim,cv2.INTER_AREA)\n",
    "        \n",
    "        input_array = []\n",
    "\n",
    "        input_array = [np.mean(new_image[i][j]/255) for i in range(new_image.shape[0])\n",
    "                      for j in range(new_image.shape[1])]\n",
    "\n",
    "        input_array.append(bias)\n",
    "        feature_vector = np.array(input_array)\n",
    "        arg_max,predicted_class = 0,self.classes[0]\n",
    "\n",
    "        for index in self.classes:\n",
    "            current_activation = np.dot(feature_vector,self.weight_vectors[index])\n",
    "            if current_activation >= arg_max:\n",
    "                arg_max,predicted_class = current_activation,index\n",
    "        return predicted_class\n",
    "    \n",
    "    def predict_img(self,path):\n",
    "        img = cv2.imread(path)\n",
    "        dim = (96,96)\n",
    "        new_image = cv2.resize(img,dim,cv2.INTER_AREA)\n",
    "        \n",
    "        input_array = []\n",
    "\n",
    "        input_array = [np.mean(new_image[i][j]/255) for i in range(new_image.shape[0])\n",
    "                      for j in range(new_image.shape[1])]\n",
    "\n",
    "        input_array.append(bias)\n",
    "        feature_vector = np.array(input_array)\n",
    "        arg_max,predicted_class = 0,self.classes[0]\n",
    "\n",
    "        for index in self.classes:\n",
    "            current_activation = np.dot(feature_vector,self.weight_vectors[index])\n",
    "            if current_activation >= arg_max:\n",
    "                arg_max,predicted_class = current_activation,index\n",
    "        return predicted_class\n",
    "\n",
    "    def test_random_data(self):\n",
    "        item = random.choice(self.test_set)\n",
    "        print(\"Actual Class :\" + item[0])\n",
    "        pred_class = self.predict(item[1])\n",
    "        print(\"Predicted Class :\" + pred_class)\n",
    "\n",
    "    def calculate_accuracy(self):\n",
    "        correct,incorrect = 0,0\n",
    "        random.shuffle(self.training_data)\n",
    "        self.test_set = self.training_data[int(len(self.training_data)*self.ratio):]\n",
    "        for training_dictionary in self.test_set:\n",
    "            actual_class = training_dictionary[0]\n",
    "            predicted_class = self.predict(training_dictionary[1])\n",
    "            if actual_class == predicted_class:\n",
    "                correct += 1\n",
    "            else:\n",
    "                incorrect += 1\n",
    "        print(\"ACCURACY\")\n",
    "        print(\"Accuracy of FF Model is \",(correct * 1.0) / ((correct + incorrect) * 1.0))\n",
    "\n",
    "    def select_random_picture(self):\n",
    "        s = glob.glob(os.getcwd() + '\\\\Testing_Sample/*')\n",
    "\n",
    "        img = cv2.imread(s[0])\n",
    "        dim = (96,96)\n",
    "        new_image = cv2.resize(img,dim,cv2.INTER_AREA)\n",
    "\n",
    "        input_array = []\n",
    "\n",
    "        input_array = [np.mean(new_image[i][j]/255) for i in range(new_image.shape[0])\n",
    "                      for j in range(new_image.shape[1])]\n",
    "        input_array.append(bias)\n",
    "        feature_vector = np.array(input_array)\n",
    "\n",
    "        arg_max,predicted_class = 0,self.classes[0]\n",
    "        for index in self.classes:\n",
    "            current_activation = np.dot(feature_vector,self.weight_vectors[index])\n",
    "            if current_activation >= arg_max:\n",
    "                arg_max,predicted_class = curren[t_activation,index]\n",
    "\n",
    "        print(\"The Predicted Class for the Sample Image is\")\n",
    "        print(predicted_class)"
   ]
  },
  {
   "cell_type": "code",
   "execution_count": 37,
   "metadata": {},
   "outputs": [
    {
     "name": "stdout",
     "output_type": "stream",
     "text": [
      "0 th iteraion\n",
      "ACCURACY\n",
      "Accuracy of FF Model is  0.24528301886792453\n",
      "1 th iteraion\n",
      "ACCURACY\n",
      "Accuracy of FF Model is  0.29559748427672955\n",
      "2 th iteraion\n",
      "ACCURACY\n",
      "Accuracy of FF Model is  0.29559748427672955\n",
      "3 th iteraion\n",
      "ACCURACY\n",
      "Accuracy of FF Model is  0.33962264150943394\n",
      "4 th iteraion\n",
      "ACCURACY\n",
      "Accuracy of FF Model is  0.2641509433962264\n",
      "5 th iteraion\n",
      "ACCURACY\n",
      "Accuracy of FF Model is  0.4968553459119497\n",
      "6 th iteraion\n",
      "ACCURACY\n",
      "Accuracy of FF Model is  0.559748427672956\n",
      "7 th iteraion\n",
      "ACCURACY\n",
      "Accuracy of FF Model is  0.5283018867924528\n",
      "8 th iteraion\n",
      "ACCURACY\n",
      "Accuracy of FF Model is  0.2893081761006289\n",
      "9 th iteraion\n",
      "ACCURACY\n",
      "Accuracy of FF Model is  0.5094339622641509\n",
      "ACCURACY\n",
      "Accuracy of FF Model is  0.5220125786163522\n"
     ]
    }
   ],
   "source": [
    "if __name__ == \"__main__\":\n",
    "    classifier = MultiClassPerceptron(classes,training_data)\n",
    "    classifier.train()\n",
    "    classifier.calculate_accuracy()"
   ]
  },
  {
   "cell_type": "code",
   "execution_count": 60,
   "metadata": {},
   "outputs": [
    {
     "name": "stdout",
     "output_type": "stream",
     "text": [
      "Actual Class :vento\n",
      "Predicted Class :swift\n"
     ]
    }
   ],
   "source": [
    "classifier.test_random_data()"
   ]
  },
  {
   "cell_type": "code",
   "execution_count": 54,
   "metadata": {},
   "outputs": [
    {
     "data": {
      "text/plain": [
       "'swift'"
      ]
     },
     "execution_count": 54,
     "metadata": {},
     "output_type": "execute_result"
    }
   ],
   "source": [
    "classifier.predict({'path': 'Dataset\\\\vento\\\\images75.jpg'})"
   ]
  },
  {
   "cell_type": "code",
   "execution_count": 47,
   "metadata": {},
   "outputs": [
    {
     "data": {
      "text/plain": [
       "{'path': 'Dataset\\\\vento\\\\images72.jpg'}"
      ]
     },
     "execution_count": 47,
     "metadata": {},
     "output_type": "execute_result"
    }
   ],
   "source": [
    "classifier.test_set[0][1]"
   ]
  },
  {
   "cell_type": "code",
   "execution_count": 55,
   "metadata": {},
   "outputs": [
    {
     "data": {
      "text/plain": [
       "'swift'"
      ]
     },
     "execution_count": 55,
     "metadata": {},
     "output_type": "execute_result"
    }
   ],
   "source": [
    "classifier.predict_img('Dataset\\\\vento\\\\images75.jpg')"
   ]
  },
  {
   "cell_type": "code",
   "execution_count": null,
   "metadata": {},
   "outputs": [],
   "source": []
  },
  {
   "cell_type": "code",
   "execution_count": null,
   "metadata": {},
   "outputs": [],
   "source": []
  },
  {
   "cell_type": "code",
   "execution_count": null,
   "metadata": {},
   "outputs": [],
   "source": []
  },
  {
   "cell_type": "code",
   "execution_count": null,
   "metadata": {},
   "outputs": [],
   "source": []
  },
  {
   "cell_type": "code",
   "execution_count": null,
   "metadata": {},
   "outputs": [],
   "source": []
  },
  {
   "cell_type": "code",
   "execution_count": null,
   "metadata": {},
   "outputs": [],
   "source": []
  },
  {
   "cell_type": "code",
   "execution_count": null,
   "metadata": {},
   "outputs": [],
   "source": []
  },
  {
   "cell_type": "code",
   "execution_count": null,
   "metadata": {},
   "outputs": [],
   "source": []
  },
  {
   "cell_type": "code",
   "execution_count": null,
   "metadata": {},
   "outputs": [],
   "source": []
  },
  {
   "cell_type": "code",
   "execution_count": null,
   "metadata": {},
   "outputs": [],
   "source": []
  },
  {
   "cell_type": "code",
   "execution_count": null,
   "metadata": {},
   "outputs": [],
   "source": []
  },
  {
   "cell_type": "code",
   "execution_count": null,
   "metadata": {},
   "outputs": [],
   "source": []
  },
  {
   "cell_type": "code",
   "execution_count": null,
   "metadata": {},
   "outputs": [],
   "source": []
  },
  {
   "cell_type": "code",
   "execution_count": null,
   "metadata": {},
   "outputs": [],
   "source": []
  },
  {
   "cell_type": "code",
   "execution_count": null,
   "metadata": {},
   "outputs": [],
   "source": []
  },
  {
   "cell_type": "code",
   "execution_count": null,
   "metadata": {},
   "outputs": [],
   "source": []
  },
  {
   "cell_type": "code",
   "execution_count": null,
   "metadata": {},
   "outputs": [],
   "source": []
  },
  {
   "cell_type": "code",
   "execution_count": null,
   "metadata": {},
   "outputs": [],
   "source": []
  },
  {
   "cell_type": "code",
   "execution_count": null,
   "metadata": {},
   "outputs": [],
   "source": []
  },
  {
   "cell_type": "code",
   "execution_count": null,
   "metadata": {},
   "outputs": [],
   "source": []
  },
  {
   "cell_type": "code",
   "execution_count": null,
   "metadata": {},
   "outputs": [],
   "source": []
  },
  {
   "cell_type": "code",
   "execution_count": null,
   "metadata": {},
   "outputs": [],
   "source": []
  },
  {
   "cell_type": "code",
   "execution_count": null,
   "metadata": {},
   "outputs": [],
   "source": []
  },
  {
   "cell_type": "code",
   "execution_count": null,
   "metadata": {},
   "outputs": [],
   "source": []
  },
  {
   "cell_type": "code",
   "execution_count": null,
   "metadata": {},
   "outputs": [],
   "source": []
  },
  {
   "cell_type": "code",
   "execution_count": null,
   "metadata": {},
   "outputs": [],
   "source": []
  },
  {
   "cell_type": "code",
   "execution_count": null,
   "metadata": {},
   "outputs": [],
   "source": []
  },
  {
   "cell_type": "code",
   "execution_count": null,
   "metadata": {},
   "outputs": [],
   "source": []
  },
  {
   "cell_type": "code",
   "execution_count": null,
   "metadata": {},
   "outputs": [],
   "source": []
  },
  {
   "cell_type": "code",
   "execution_count": null,
   "metadata": {},
   "outputs": [],
   "source": []
  },
  {
   "cell_type": "code",
   "execution_count": null,
   "metadata": {},
   "outputs": [],
   "source": []
  },
  {
   "cell_type": "code",
   "execution_count": null,
   "metadata": {},
   "outputs": [],
   "source": []
  },
  {
   "cell_type": "code",
   "execution_count": null,
   "metadata": {},
   "outputs": [],
   "source": []
  },
  {
   "cell_type": "code",
   "execution_count": null,
   "metadata": {},
   "outputs": [],
   "source": []
  },
  {
   "cell_type": "code",
   "execution_count": null,
   "metadata": {},
   "outputs": [],
   "source": []
  },
  {
   "cell_type": "code",
   "execution_count": null,
   "metadata": {},
   "outputs": [],
   "source": []
  },
  {
   "cell_type": "code",
   "execution_count": null,
   "metadata": {},
   "outputs": [],
   "source": []
  },
  {
   "cell_type": "code",
   "execution_count": null,
   "metadata": {},
   "outputs": [],
   "source": []
  },
  {
   "cell_type": "code",
   "execution_count": null,
   "metadata": {},
   "outputs": [],
   "source": []
  },
  {
   "cell_type": "code",
   "execution_count": null,
   "metadata": {},
   "outputs": [],
   "source": []
  },
  {
   "cell_type": "code",
   "execution_count": null,
   "metadata": {},
   "outputs": [],
   "source": []
  },
  {
   "cell_type": "code",
   "execution_count": null,
   "metadata": {},
   "outputs": [],
   "source": []
  },
  {
   "cell_type": "code",
   "execution_count": null,
   "metadata": {},
   "outputs": [],
   "source": []
  },
  {
   "cell_type": "code",
   "execution_count": null,
   "metadata": {},
   "outputs": [],
   "source": []
  },
  {
   "cell_type": "code",
   "execution_count": null,
   "metadata": {},
   "outputs": [],
   "source": []
  },
  {
   "cell_type": "code",
   "execution_count": null,
   "metadata": {},
   "outputs": [],
   "source": []
  },
  {
   "cell_type": "code",
   "execution_count": null,
   "metadata": {},
   "outputs": [],
   "source": []
  },
  {
   "cell_type": "code",
   "execution_count": null,
   "metadata": {},
   "outputs": [],
   "source": []
  },
  {
   "cell_type": "code",
   "execution_count": null,
   "metadata": {},
   "outputs": [],
   "source": []
  },
  {
   "cell_type": "code",
   "execution_count": null,
   "metadata": {},
   "outputs": [],
   "source": []
  },
  {
   "cell_type": "code",
   "execution_count": null,
   "metadata": {},
   "outputs": [],
   "source": []
  },
  {
   "cell_type": "code",
   "execution_count": null,
   "metadata": {},
   "outputs": [],
   "source": []
  },
  {
   "cell_type": "code",
   "execution_count": null,
   "metadata": {},
   "outputs": [],
   "source": []
  },
  {
   "cell_type": "code",
   "execution_count": null,
   "metadata": {},
   "outputs": [],
   "source": []
  },
  {
   "cell_type": "code",
   "execution_count": null,
   "metadata": {},
   "outputs": [],
   "source": []
  },
  {
   "cell_type": "code",
   "execution_count": null,
   "metadata": {},
   "outputs": [],
   "source": []
  },
  {
   "cell_type": "code",
   "execution_count": null,
   "metadata": {},
   "outputs": [],
   "source": []
  },
  {
   "cell_type": "code",
   "execution_count": null,
   "metadata": {},
   "outputs": [],
   "source": []
  },
  {
   "cell_type": "code",
   "execution_count": null,
   "metadata": {},
   "outputs": [],
   "source": []
  },
  {
   "cell_type": "code",
   "execution_count": null,
   "metadata": {},
   "outputs": [],
   "source": []
  },
  {
   "cell_type": "code",
   "execution_count": null,
   "metadata": {},
   "outputs": [],
   "source": []
  },
  {
   "cell_type": "code",
   "execution_count": null,
   "metadata": {},
   "outputs": [],
   "source": []
  },
  {
   "cell_type": "code",
   "execution_count": null,
   "metadata": {},
   "outputs": [],
   "source": []
  },
  {
   "cell_type": "code",
   "execution_count": null,
   "metadata": {},
   "outputs": [],
   "source": []
  },
  {
   "cell_type": "code",
   "execution_count": null,
   "metadata": {},
   "outputs": [],
   "source": []
  },
  {
   "cell_type": "code",
   "execution_count": null,
   "metadata": {},
   "outputs": [],
   "source": []
  },
  {
   "cell_type": "code",
   "execution_count": null,
   "metadata": {},
   "outputs": [],
   "source": []
  },
  {
   "cell_type": "code",
   "execution_count": null,
   "metadata": {},
   "outputs": [],
   "source": []
  },
  {
   "cell_type": "code",
   "execution_count": null,
   "metadata": {},
   "outputs": [],
   "source": []
  },
  {
   "cell_type": "code",
   "execution_count": null,
   "metadata": {},
   "outputs": [],
   "source": []
  },
  {
   "cell_type": "code",
   "execution_count": null,
   "metadata": {},
   "outputs": [],
   "source": []
  },
  {
   "cell_type": "code",
   "execution_count": null,
   "metadata": {},
   "outputs": [],
   "source": []
  },
  {
   "cell_type": "code",
   "execution_count": null,
   "metadata": {},
   "outputs": [],
   "source": []
  },
  {
   "cell_type": "code",
   "execution_count": null,
   "metadata": {},
   "outputs": [],
   "source": []
  },
  {
   "cell_type": "code",
   "execution_count": null,
   "metadata": {},
   "outputs": [],
   "source": []
  },
  {
   "cell_type": "code",
   "execution_count": null,
   "metadata": {},
   "outputs": [],
   "source": []
  },
  {
   "cell_type": "code",
   "execution_count": null,
   "metadata": {},
   "outputs": [],
   "source": []
  },
  {
   "cell_type": "code",
   "execution_count": null,
   "metadata": {},
   "outputs": [],
   "source": []
  },
  {
   "cell_type": "code",
   "execution_count": null,
   "metadata": {},
   "outputs": [],
   "source": []
  },
  {
   "cell_type": "code",
   "execution_count": null,
   "metadata": {},
   "outputs": [],
   "source": []
  },
  {
   "cell_type": "code",
   "execution_count": null,
   "metadata": {},
   "outputs": [],
   "source": []
  },
  {
   "cell_type": "code",
   "execution_count": null,
   "metadata": {},
   "outputs": [],
   "source": []
  },
  {
   "cell_type": "code",
   "execution_count": null,
   "metadata": {},
   "outputs": [],
   "source": []
  },
  {
   "cell_type": "code",
   "execution_count": null,
   "metadata": {},
   "outputs": [],
   "source": []
  },
  {
   "cell_type": "code",
   "execution_count": null,
   "metadata": {},
   "outputs": [],
   "source": []
  },
  {
   "cell_type": "code",
   "execution_count": null,
   "metadata": {},
   "outputs": [],
   "source": []
  },
  {
   "cell_type": "code",
   "execution_count": null,
   "metadata": {},
   "outputs": [],
   "source": []
  },
  {
   "cell_type": "code",
   "execution_count": null,
   "metadata": {},
   "outputs": [],
   "source": []
  },
  {
   "cell_type": "code",
   "execution_count": null,
   "metadata": {},
   "outputs": [],
   "source": []
  },
  {
   "cell_type": "code",
   "execution_count": null,
   "metadata": {},
   "outputs": [],
   "source": []
  },
  {
   "cell_type": "code",
   "execution_count": null,
   "metadata": {},
   "outputs": [],
   "source": []
  },
  {
   "cell_type": "code",
   "execution_count": null,
   "metadata": {},
   "outputs": [],
   "source": []
  },
  {
   "cell_type": "code",
   "execution_count": null,
   "metadata": {},
   "outputs": [],
   "source": []
  },
  {
   "cell_type": "code",
   "execution_count": null,
   "metadata": {},
   "outputs": [],
   "source": []
  },
  {
   "cell_type": "code",
   "execution_count": null,
   "metadata": {},
   "outputs": [],
   "source": []
  },
  {
   "cell_type": "code",
   "execution_count": null,
   "metadata": {},
   "outputs": [],
   "source": []
  },
  {
   "cell_type": "code",
   "execution_count": null,
   "metadata": {},
   "outputs": [],
   "source": []
  },
  {
   "cell_type": "code",
   "execution_count": null,
   "metadata": {},
   "outputs": [],
   "source": []
  },
  {
   "cell_type": "code",
   "execution_count": null,
   "metadata": {},
   "outputs": [],
   "source": []
  },
  {
   "cell_type": "code",
   "execution_count": null,
   "metadata": {},
   "outputs": [],
   "source": []
  },
  {
   "cell_type": "code",
   "execution_count": null,
   "metadata": {},
   "outputs": [],
   "source": []
  },
  {
   "cell_type": "code",
   "execution_count": null,
   "metadata": {},
   "outputs": [],
   "source": []
  },
  {
   "cell_type": "code",
   "execution_count": null,
   "metadata": {},
   "outputs": [],
   "source": []
  },
  {
   "cell_type": "code",
   "execution_count": null,
   "metadata": {},
   "outputs": [],
   "source": []
  },
  {
   "cell_type": "code",
   "execution_count": null,
   "metadata": {},
   "outputs": [],
   "source": []
  },
  {
   "cell_type": "code",
   "execution_count": null,
   "metadata": {},
   "outputs": [],
   "source": []
  },
  {
   "cell_type": "code",
   "execution_count": null,
   "metadata": {},
   "outputs": [],
   "source": []
  },
  {
   "cell_type": "code",
   "execution_count": null,
   "metadata": {},
   "outputs": [],
   "source": []
  },
  {
   "cell_type": "code",
   "execution_count": null,
   "metadata": {},
   "outputs": [],
   "source": []
  },
  {
   "cell_type": "code",
   "execution_count": null,
   "metadata": {},
   "outputs": [],
   "source": []
  },
  {
   "cell_type": "code",
   "execution_count": null,
   "metadata": {},
   "outputs": [],
   "source": []
  },
  {
   "cell_type": "code",
   "execution_count": null,
   "metadata": {},
   "outputs": [],
   "source": []
  }
 ],
 "metadata": {
  "kernelspec": {
   "display_name": "Python 3",
   "language": "python",
   "name": "python3"
  },
  "language_info": {
   "codemirror_mode": {
    "name": "ipython",
    "version": 3
   },
   "file_extension": ".py",
   "mimetype": "text/x-python",
   "name": "python",
   "nbconvert_exporter": "python",
   "pygments_lexer": "ipython3",
   "version": "3.7.7"
  }
 },
 "nbformat": 4,
 "nbformat_minor": 2
}
